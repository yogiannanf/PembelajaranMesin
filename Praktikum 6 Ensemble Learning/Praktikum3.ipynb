{
 "cells": [
  {
   "cell_type": "code",
   "execution_count": 21,
   "metadata": {},
   "outputs": [],
   "source": [
    "import numpy as np\n",
    "from sklearn.ensemble import RandomForestClassifier, AdaBoostClassifier, StackingClassifier\n",
    "from sklearn.linear_model import LogisticRegression\n",
    "from sklearn.tree import DecisionTreeClassifier\n",
    "from sklearn.neighbors import KNeighborsClassifier\n",
    "from sklearn.model_selection import train_test_split\n",
    "from sklearn.impute import SimpleImputer\n",
    "from sklearn.metrics import accuracy_score"
   ]
  },
  {
   "cell_type": "code",
   "execution_count": 25,
   "metadata": {},
   "outputs": [],
   "source": [
    "# Load dataset iris.csv\n",
    "iris_data = pd.read_csv('data/iris.csv')\n",
    "X_iris = iris_data.drop(columns=['Species'])\n",
    "y_iris = iris_data['Species']"
   ]
  },
  {
   "cell_type": "code",
   "execution_count": 26,
   "metadata": {},
   "outputs": [],
   "source": [
    "# Load dataset wbc.csv\n",
    "wbc_data = pd.read_csv('data/wbc.csv')\n",
    "X_wbc = wbc_data.drop(columns=['diagnosis'])\n",
    "y_wbc = wbc_data['diagnosis']"
   ]
  },
  {
   "cell_type": "code",
   "execution_count": 27,
   "metadata": {},
   "outputs": [],
   "source": [
    "# Fungsi untuk mengevaluasi model harus didefinisikan sebelumnya\n",
    "def evaluate_models(X, y):\n",
    "    from sklearn.model_selection import train_test_split\n",
    "    from sklearn.ensemble import RandomForestClassifier, AdaBoostClassifier, StackingClassifier\n",
    "    from sklearn.linear_model import LogisticRegression\n",
    "    from sklearn.metrics import accuracy_score\n",
    "\n",
    "    # Membagi dataset menjadi training dan testing\n",
    "    X_train, X_test, y_train, y_test = train_test_split(X, y, test_size=0.3, random_state=42)\n",
    "\n",
    "    # Random Forest\n",
    "    rf = RandomForestClassifier(random_state=42)\n",
    "    rf.fit(X_train, y_train)\n",
    "    rf_acc = accuracy_score(y_test, rf.predict(X_test))\n",
    "\n",
    "    # AdaBoost\n",
    "    ada = AdaBoostClassifier(random_state=42)\n",
    "    ada.fit(X_train, y_train)\n",
    "    ada_acc = accuracy_score(y_test, ada.predict(X_test))\n",
    "\n",
    "    # Stacking\n",
    "    estimators = [('rf', RandomForestClassifier(random_state=42)), ('ada', AdaBoostClassifier(random_state=42))]\n",
    "    stack = StackingClassifier(estimators=estimators, final_estimator=LogisticRegression())\n",
    "    stack.fit(X_train, y_train)\n",
    "    stack_acc = accuracy_score(y_test, stack.predict(X_test))\n",
    "\n",
    "    return rf_acc, ada_acc, stack_acc"
   ]
  },
  {
   "cell_type": "code",
   "execution_count": 11,
   "metadata": {},
   "outputs": [
    {
     "name": "stdout",
     "output_type": "stream",
     "text": [
      "Akurasi untuk dataset Iris:\n",
      "Random Forest: 1.0000\n",
      "AdaBoost: 1.0000\n",
      "Stacking: 1.0000\n",
      "Perbedaan Akurasi Stacking dan Random Forest: 0.0000\n",
      "Perbedaan Akurasi Stacking dan AdaBoost: 0.0000\n"
     ]
    }
   ],
   "source": [
    "# Evaluasi untuk dataset Iris\n",
    "rf_acc_iris, ada_acc_iris, stack_acc_iris = evaluate_models(X_iris, y_iris)\n",
    "print(\"Akurasi untuk dataset Iris:\")\n",
    "print(f\"Random Forest: {rf_acc_iris:.4f}\")\n",
    "print(f\"AdaBoost: {ada_acc_iris:.4f}\")\n",
    "print(f\"Stacking: {stack_acc_iris:.4f}\")\n",
    "print(f\"Perbedaan Akurasi Stacking dan Random Forest: {stack_acc_iris - rf_acc_iris:.4f}\")\n",
    "print(f\"Perbedaan Akurasi Stacking dan AdaBoost: {stack_acc_iris - ada_acc_iris:.4f}\")"
   ]
  },
  {
   "cell_type": "code",
   "execution_count": 37,
   "metadata": {},
   "outputs": [],
   "source": [
    "# Definisi fungsi evaluasi model\n",
    "def evaluate_models(X, y):\n",
    "    # Memeriksa nilai NaN\n",
    "    print(f\"Jumlah nilai NaN di X: {np.isnan(X).sum()}\")\n",
    "    print(f\"Jumlah nilai NaN di y: {pd.isnull(y).sum()}\")  # Menggunakan pd.isnull untuk y yang mungkin non-numerik\n",
    "\n",
    "    # Imputasi nilai NaN di X menggunakan rata-rata\n",
    "    imputer = SimpleImputer(strategy='mean')\n",
    "    X = imputer.fit_transform(X)  # Mengganti NaN dengan rata-rata kolom\n",
    "\n",
    "    # Pastikan tidak ada nilai NaN setelah imputasi\n",
    "    assert not np.isnan(X).any(), \"Terdapat nilai NaN di X setelah imputasi\"\n",
    "\n",
    "    # Split data\n",
    "    X_train, X_test, y_train, y_test = train_test_split(X, y, stratify=y, random_state=42)\n",
    "\n",
    "    # Model Random Forest\n",
    "    rf_model = RandomForestClassifier(n_estimators=10, random_state=42)\n",
    "    rf_model.fit(X_train, y_train)\n",
    "    rf_accuracy = accuracy_score(y_test, rf_model.predict(X_test))\n",
    "\n",
    "    # Model AdaBoost\n",
    "    ada_model = AdaBoostClassifier(n_estimators=50, random_state=42)\n",
    "    ada_model.fit(X_train, y_train)\n",
    "    ada_accuracy = accuracy_score(y_test, ada_model.predict(X_test))\n",
    "\n",
    "    # Model Stacking\n",
    "    layer_one_estimators = [\n",
    "        ('rf', RandomForestClassifier(n_estimators=10, random_state=42)),\n",
    "        ('knn', KNeighborsClassifier(n_neighbors=5))\n",
    "    ]\n",
    "    \n",
    "    # Final estimator pada Stacking\n",
    "    clf = StackingClassifier(estimators=layer_one_estimators, final_estimator=LogisticRegression())\n",
    "    clf.fit(X_train, y_train)\n",
    "    stacking_accuracy = accuracy_score(y_test, clf.predict(X_test))\n",
    "\n",
    "    return rf_accuracy, ada_accuracy, stacking_accuracy"
   ]
  },
  {
   "cell_type": "code",
   "execution_count": 40,
   "metadata": {},
   "outputs": [
    {
     "name": "stdout",
     "output_type": "stream",
     "text": [
      "Dimensi X_wbc_clean: (569, 31)\n",
      "Dimensi y_wbc: (569,)\n",
      "Jumlah nilai NaN di y_wbc: 0\n",
      "Jumlah nilai NaN di X: 0\n",
      "Jumlah nilai NaN di y: 0\n",
      "\n",
      "Akurasi untuk dataset WBC:\n",
      "Random Forest: 0.9510\n",
      "AdaBoost: 0.9650\n",
      "Stacking: 0.9510\n",
      "Perbedaan Akurasi Stacking dan Random Forest: 0.0000\n",
      "Perbedaan Akurasi Stacking dan AdaBoost: -0.0140\n"
     ]
    }
   ],
   "source": [
    "# Memastikan X_wbc_clean dan y_wbc tidak kosong\n",
    "print(f\"Dimensi X_wbc_clean: {X_wbc_clean.shape}\")\n",
    "print(f\"Dimensi y_wbc: {y_wbc.shape}\")\n",
    "print(f\"Jumlah nilai NaN di y_wbc: {y_wbc.isnull().sum()}\")\n",
    "\n",
    "# Evaluasi untuk dataset WBC setelah menangani missing values\n",
    "rf_acc_wbc, ada_acc_wbc, stack_acc_wbc = evaluate_models(X_wbc_clean, y_wbc)\n",
    "print(\"\\nAkurasi untuk dataset WBC:\")\n",
    "print(f\"Random Forest: {rf_acc_wbc:.4f}\")\n",
    "print(f\"AdaBoost: {ada_acc_wbc:.4f}\")\n",
    "print(f\"Stacking: {stack_acc_wbc:.4f}\")\n",
    "print(f\"Perbedaan Akurasi Stacking dan Random Forest: {stack_acc_wbc - rf_acc_wbc:.4f}\")\n",
    "print(f\"Perbedaan Akurasi Stacking dan AdaBoost: {stack_acc_wbc - ada_acc_wbc:.4f}\")"
   ]
  }
 ],
 "metadata": {
  "kernelspec": {
   "display_name": "base",
   "language": "python",
   "name": "python3"
  },
  "language_info": {
   "codemirror_mode": {
    "name": "ipython",
    "version": 3
   },
   "file_extension": ".py",
   "mimetype": "text/x-python",
   "name": "python",
   "nbconvert_exporter": "python",
   "pygments_lexer": "ipython3",
   "version": "3.11.5"
  }
 },
 "nbformat": 4,
 "nbformat_minor": 2
}
