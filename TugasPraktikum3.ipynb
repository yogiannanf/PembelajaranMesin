{
  "nbformat": 4,
  "nbformat_minor": 0,
  "metadata": {
    "colab": {
      "provenance": [],
      "authorship_tag": "ABX9TyPmuaGfXco9lbvDdHO6OuO4",
      "include_colab_link": true
    },
    "kernelspec": {
      "name": "python3",
      "display_name": "Python 3"
    },
    "language_info": {
      "name": "python"
    }
  },
  "cells": [
    {
      "cell_type": "markdown",
      "metadata": {
        "id": "view-in-github",
        "colab_type": "text"
      },
      "source": [
        "<a href=\"https://colab.research.google.com/github/yogiannanf/PembelajaranMesin/blob/main/TugasPraktikum3.ipynb\" target=\"_parent\"><img src=\"https://colab.research.google.com/assets/colab-badge.svg\" alt=\"Open In Colab\"/></a>"
      ]
    },
    {
      "cell_type": "markdown",
      "source": [
        "# Tugas Praktikum\n",
        "\n",
        "**Tugas 1: Multiple Linear Regression**\n",
        "\n",
        "1. Identifikasi variabel-variabel yang akan digunakan sebagai variabel bebas (fitur) dan variabel target (biaya medis personal).\n",
        "\n",
        "2. Bagi dataset menjadi data latih (train) dan data uji (test) dengan proporsi yang sesuai.\n",
        "\n",
        "3. Lakukan feature scaling jika diperlukan.\n",
        "\n",
        "4. Buat model multiple linear regression menggunakan Scikit-Learn.\n",
        "\n",
        "5. Latih model pada data latih dan lakukan prediksi pada data uji.\n",
        "\n",
        "6. Evaluasi model dengan menghitung metrik seperti R-squared, MSE, dan MAE. Tampilkan hasil evaluasi."
      ],
      "metadata": {
        "id": "lhNqofJw3vS8"
      }
    },
    {
      "cell_type": "code",
      "execution_count": 1,
      "metadata": {
        "colab": {
          "base_uri": "https://localhost:8080/",
          "height": 71
        },
        "id": "fLsvMYUp3Wjo",
        "outputId": "66f768e5-34cf-4bb6-81da-2d986ae33d02"
      },
      "outputs": [
        {
          "output_type": "display_data",
          "data": {
            "text/plain": [
              "<IPython.core.display.HTML object>"
            ],
            "text/html": [
              "\n",
              "     <input type=\"file\" id=\"files-c2cd2b02-d7ef-48a7-bde0-fe7059bd2896\" name=\"files[]\" multiple disabled\n",
              "        style=\"border:none\" />\n",
              "     <output id=\"result-c2cd2b02-d7ef-48a7-bde0-fe7059bd2896\">\n",
              "      Upload widget is only available when the cell has been executed in the\n",
              "      current browser session. Please rerun this cell to enable.\n",
              "      </output>\n",
              "      <script>// Copyright 2017 Google LLC\n",
              "//\n",
              "// Licensed under the Apache License, Version 2.0 (the \"License\");\n",
              "// you may not use this file except in compliance with the License.\n",
              "// You may obtain a copy of the License at\n",
              "//\n",
              "//      http://www.apache.org/licenses/LICENSE-2.0\n",
              "//\n",
              "// Unless required by applicable law or agreed to in writing, software\n",
              "// distributed under the License is distributed on an \"AS IS\" BASIS,\n",
              "// WITHOUT WARRANTIES OR CONDITIONS OF ANY KIND, either express or implied.\n",
              "// See the License for the specific language governing permissions and\n",
              "// limitations under the License.\n",
              "\n",
              "/**\n",
              " * @fileoverview Helpers for google.colab Python module.\n",
              " */\n",
              "(function(scope) {\n",
              "function span(text, styleAttributes = {}) {\n",
              "  const element = document.createElement('span');\n",
              "  element.textContent = text;\n",
              "  for (const key of Object.keys(styleAttributes)) {\n",
              "    element.style[key] = styleAttributes[key];\n",
              "  }\n",
              "  return element;\n",
              "}\n",
              "\n",
              "// Max number of bytes which will be uploaded at a time.\n",
              "const MAX_PAYLOAD_SIZE = 100 * 1024;\n",
              "\n",
              "function _uploadFiles(inputId, outputId) {\n",
              "  const steps = uploadFilesStep(inputId, outputId);\n",
              "  const outputElement = document.getElementById(outputId);\n",
              "  // Cache steps on the outputElement to make it available for the next call\n",
              "  // to uploadFilesContinue from Python.\n",
              "  outputElement.steps = steps;\n",
              "\n",
              "  return _uploadFilesContinue(outputId);\n",
              "}\n",
              "\n",
              "// This is roughly an async generator (not supported in the browser yet),\n",
              "// where there are multiple asynchronous steps and the Python side is going\n",
              "// to poll for completion of each step.\n",
              "// This uses a Promise to block the python side on completion of each step,\n",
              "// then passes the result of the previous step as the input to the next step.\n",
              "function _uploadFilesContinue(outputId) {\n",
              "  const outputElement = document.getElementById(outputId);\n",
              "  const steps = outputElement.steps;\n",
              "\n",
              "  const next = steps.next(outputElement.lastPromiseValue);\n",
              "  return Promise.resolve(next.value.promise).then((value) => {\n",
              "    // Cache the last promise value to make it available to the next\n",
              "    // step of the generator.\n",
              "    outputElement.lastPromiseValue = value;\n",
              "    return next.value.response;\n",
              "  });\n",
              "}\n",
              "\n",
              "/**\n",
              " * Generator function which is called between each async step of the upload\n",
              " * process.\n",
              " * @param {string} inputId Element ID of the input file picker element.\n",
              " * @param {string} outputId Element ID of the output display.\n",
              " * @return {!Iterable<!Object>} Iterable of next steps.\n",
              " */\n",
              "function* uploadFilesStep(inputId, outputId) {\n",
              "  const inputElement = document.getElementById(inputId);\n",
              "  inputElement.disabled = false;\n",
              "\n",
              "  const outputElement = document.getElementById(outputId);\n",
              "  outputElement.innerHTML = '';\n",
              "\n",
              "  const pickedPromise = new Promise((resolve) => {\n",
              "    inputElement.addEventListener('change', (e) => {\n",
              "      resolve(e.target.files);\n",
              "    });\n",
              "  });\n",
              "\n",
              "  const cancel = document.createElement('button');\n",
              "  inputElement.parentElement.appendChild(cancel);\n",
              "  cancel.textContent = 'Cancel upload';\n",
              "  const cancelPromise = new Promise((resolve) => {\n",
              "    cancel.onclick = () => {\n",
              "      resolve(null);\n",
              "    };\n",
              "  });\n",
              "\n",
              "  // Wait for the user to pick the files.\n",
              "  const files = yield {\n",
              "    promise: Promise.race([pickedPromise, cancelPromise]),\n",
              "    response: {\n",
              "      action: 'starting',\n",
              "    }\n",
              "  };\n",
              "\n",
              "  cancel.remove();\n",
              "\n",
              "  // Disable the input element since further picks are not allowed.\n",
              "  inputElement.disabled = true;\n",
              "\n",
              "  if (!files) {\n",
              "    return {\n",
              "      response: {\n",
              "        action: 'complete',\n",
              "      }\n",
              "    };\n",
              "  }\n",
              "\n",
              "  for (const file of files) {\n",
              "    const li = document.createElement('li');\n",
              "    li.append(span(file.name, {fontWeight: 'bold'}));\n",
              "    li.append(span(\n",
              "        `(${file.type || 'n/a'}) - ${file.size} bytes, ` +\n",
              "        `last modified: ${\n",
              "            file.lastModifiedDate ? file.lastModifiedDate.toLocaleDateString() :\n",
              "                                    'n/a'} - `));\n",
              "    const percent = span('0% done');\n",
              "    li.appendChild(percent);\n",
              "\n",
              "    outputElement.appendChild(li);\n",
              "\n",
              "    const fileDataPromise = new Promise((resolve) => {\n",
              "      const reader = new FileReader();\n",
              "      reader.onload = (e) => {\n",
              "        resolve(e.target.result);\n",
              "      };\n",
              "      reader.readAsArrayBuffer(file);\n",
              "    });\n",
              "    // Wait for the data to be ready.\n",
              "    let fileData = yield {\n",
              "      promise: fileDataPromise,\n",
              "      response: {\n",
              "        action: 'continue',\n",
              "      }\n",
              "    };\n",
              "\n",
              "    // Use a chunked sending to avoid message size limits. See b/62115660.\n",
              "    let position = 0;\n",
              "    do {\n",
              "      const length = Math.min(fileData.byteLength - position, MAX_PAYLOAD_SIZE);\n",
              "      const chunk = new Uint8Array(fileData, position, length);\n",
              "      position += length;\n",
              "\n",
              "      const base64 = btoa(String.fromCharCode.apply(null, chunk));\n",
              "      yield {\n",
              "        response: {\n",
              "          action: 'append',\n",
              "          file: file.name,\n",
              "          data: base64,\n",
              "        },\n",
              "      };\n",
              "\n",
              "      let percentDone = fileData.byteLength === 0 ?\n",
              "          100 :\n",
              "          Math.round((position / fileData.byteLength) * 100);\n",
              "      percent.textContent = `${percentDone}% done`;\n",
              "\n",
              "    } while (position < fileData.byteLength);\n",
              "  }\n",
              "\n",
              "  // All done.\n",
              "  yield {\n",
              "    response: {\n",
              "      action: 'complete',\n",
              "    }\n",
              "  };\n",
              "}\n",
              "\n",
              "scope.google = scope.google || {};\n",
              "scope.google.colab = scope.google.colab || {};\n",
              "scope.google.colab._files = {\n",
              "  _uploadFiles,\n",
              "  _uploadFilesContinue,\n",
              "};\n",
              "})(self);\n",
              "</script> "
            ]
          },
          "metadata": {}
        },
        {
          "output_type": "stream",
          "name": "stdout",
          "text": [
            "Saving insurance.csv to insurance.csv\n"
          ]
        }
      ],
      "source": [
        "from google.colab import files\n",
        "uploaded = files.upload() # upload dataset"
      ]
    },
    {
      "cell_type": "code",
      "source": [
        "# Mengimpor library\n",
        "import numpy as np\n",
        "import matplotlib.pyplot as plt\n",
        "import pandas as pd"
      ],
      "metadata": {
        "id": "ij9BK1M04Qwz"
      },
      "execution_count": 2,
      "outputs": []
    },
    {
      "cell_type": "code",
      "source": [
        "# Mengimpor dataset (Pastikan Anda memiliki file CSV 'insurance.csv' dalam direktori yang sama)\n",
        "dataset = pd.read_csv('insurance.csv')\n",
        "X = dataset.iloc[:, 1:2].values\n",
        "y = dataset.iloc[:, 2].values  # Ubah menjadi satu kolom saja"
      ],
      "metadata": {
        "id": "Kq4yd-fO4WAl"
      },
      "execution_count": 3,
      "outputs": []
    },
    {
      "cell_type": "code",
      "source": [
        "import pandas as pd\n",
        "\n",
        "# Ganti 'nama_file.csv' dengan nama file dataset Anda\n",
        "data = pd.read_csv('insurance.csv')\n",
        "\n",
        "# Identifikasi variabel bebas (fitur)\n",
        "features = ['usia', 'jenis_kelamin', 'bmi', 'riwayat_merokok', ...]  # Ganti dengan nama kolom yang sesuai\n",
        "\n",
        "# Identifikasi variabel target (biaya medis personal)\n",
        "target = 'biaya_medis'  # Ganti dengan nama kolom yang sesuai\n",
        "\n",
        "# Cetak variabel yang telah diidentifikasi\n",
        "print(\"Variabel bebas (fitur):\", features)\n",
        "print(\"Variabel target:\", target)"
      ],
      "metadata": {
        "colab": {
          "base_uri": "https://localhost:8080/"
        },
        "id": "X4ZTU62G4aAW",
        "outputId": "6c5ee3fc-1965-41b4-8bb4-202799a696f3"
      },
      "execution_count": 4,
      "outputs": [
        {
          "output_type": "stream",
          "name": "stdout",
          "text": [
            "Variabel bebas (fitur): ['usia', 'jenis_kelamin', 'bmi', 'riwayat_merokok', Ellipsis]\n",
            "Variabel target: biaya_medis\n"
          ]
        }
      ]
    },
    {
      "cell_type": "code",
      "source": [
        "import pandas as pd\n",
        "\n",
        "# Ganti 'nama_file.csv' dengan nama file dataset Anda\n",
        "data = pd.read_csv('insurance.csv')\n",
        "\n",
        "# Identifikasi variabel bebas (fitur)\n",
        "# Pastikan nama kolom sesuai dengan dataset Anda. Hilangkan Ellipsis (...) dan ganti dengan nama kolom yang sesuai\n",
        "features = ['age', 'sex', 'bmi', 'children', 'smoker', 'region']\n",
        "\n",
        "# Identifikasi variabel target (biaya medis personal)\n",
        "target = 'charges'  # Ganti dengan nama kolom yang sesuai\n",
        "\n",
        "# Cetak variabel yang telah diidentifikasi\n",
        "print(\"Variabel bebas (fitur):\", features)\n",
        "print(\"Variabel target:\", target)\n",
        "\n",
        "from sklearn.model_selection import train_test_split\n",
        "\n",
        "# Pisahkan fitur (X) dan target (y)\n",
        "X = data[features]\n",
        "y = data[target]\n",
        "\n",
        "# Bagi data menjadi data latih dan data uji (misalnya, 80% latih, 20% uji)\n",
        "X_train, X_test, y_train, y_test = train_test_split(X, y, test_size=0.2, random_state=42)"
      ],
      "metadata": {
        "colab": {
          "base_uri": "https://localhost:8080/"
        },
        "id": "kjVbSaLg4dfO",
        "outputId": "b7fc7b40-2943-4bca-d62d-635602a5f7f8"
      },
      "execution_count": 5,
      "outputs": [
        {
          "output_type": "stream",
          "name": "stdout",
          "text": [
            "Variabel bebas (fitur): ['age', 'sex', 'bmi', 'children', 'smoker', 'region']\n",
            "Variabel target: charges\n"
          ]
        }
      ]
    },
    {
      "cell_type": "code",
      "source": [
        "import pandas as pd\n",
        "from sklearn.model_selection import train_test_split\n",
        "from sklearn.preprocessing import StandardScaler\n",
        "\n",
        "# Ganti 'nama_file.csv' dengan nama file dataset Anda\n",
        "data = pd.read_csv('insurance.csv')\n",
        "\n",
        "# Identifikasi variabel bebas (fitur)\n",
        "features = ['age', 'sex', 'bmi', 'children', 'smoker', 'region']\n",
        "\n",
        "# Identifikasi variabel target (biaya medis personal)\n",
        "target = 'charges'\n",
        "\n",
        "# Cetak variabel yang telah diidentifikasi\n",
        "print(\"Variabel bebas (fitur):\", features)\n",
        "print(\"Variabel target:\", target)\n",
        "\n",
        "# Pisahkan fitur (X) dan target (y)\n",
        "X = data[features]\n",
        "y = data[target]\n",
        "# Bagi data menjadi data latih dan data uji (misalnya, 80% latih, 20% uji)\n",
        "X_train, X_test, y_train, y_test = train_test_split(X, y, test_size=0.2)\n",
        ""
      ],
      "metadata": {
        "colab": {
          "base_uri": "https://localhost:8080/"
        },
        "id": "eoyd_1tv4hAC",
        "outputId": "f043bdba-7c3e-4f2e-8e25-90b42a44e97d"
      },
      "execution_count": 6,
      "outputs": [
        {
          "output_type": "stream",
          "name": "stdout",
          "text": [
            "Variabel bebas (fitur): ['age', 'sex', 'bmi', 'children', 'smoker', 'region']\n",
            "Variabel target: charges\n"
          ]
        }
      ]
    },
    {
      "cell_type": "code",
      "source": [
        "import pandas as pd\n",
        "from sklearn.model_selection import train_test_split\n",
        "from sklearn.preprocessing import StandardScaler, OneHotEncoder\n",
        "from sklearn.linear_model import LinearRegression\n",
        "from sklearn.compose import ColumnTransformer\n",
        "\n",
        "# Ganti 'nama_file.csv' dengan nama file dataset Anda\n",
        "data = pd.read_csv('insurance.csv')\n",
        "\n",
        "# Identifikasi variabel bebas (fitur)\n",
        "features = ['age', 'sex', 'bmi', 'children', 'smoker', 'region']\n",
        "\n",
        "# Identifikasi variabel target (biaya medis personal)\n",
        "target = 'charges'\n",
        "\n",
        "# Cetak variabel yang telah diidentifikasi\n",
        "print(\"Variabel bebas (fitur):\", features)\n",
        "print(\"Variabel target:\", target)\n",
        "\n",
        "# Pisahkan fitur (X) dan target (y)\n",
        "X = data[features]\n",
        "y = data[target]\n",
        "\n",
        "# Bagi data menjadi data latih dan data uji (misalnya, 80% latih, 20% uji)\n",
        "X_train, X_test, y_train, y_test = train_test_split(X, y, test_size=0.2, random_state=42)\n",
        "\n",
        "# --- Create a column transformer to apply different transformations ---\n",
        "preprocessor = ColumnTransformer(\n",
        "    transformers=[\n",
        "        ('num', StandardScaler(), ['age', 'bmi', 'children']),\n",
        "        ('cat', OneHotEncoder(), ['sex', 'smoker', 'region'])\n",
        "    ])\n",
        "\n",
        "# --- Fit and transform the training data ---\n",
        "X_train = preprocessor.fit_transform(X_train)\n",
        "\n",
        "# --- Only transform the test data ---\n",
        "X_test = preprocessor.transform(X_test)\n",
        "\n",
        "# Buat model multiple linear regression\n",
        "model = LinearRegression()\n",
        "\n",
        "# Latih model dengan data latih\n",
        "model.fit(X_train, y_train)"
      ],
      "metadata": {
        "colab": {
          "base_uri": "https://localhost:8080/",
          "height": 110
        },
        "id": "3cCoiNP44keG",
        "outputId": "a80db35e-4e85-4626-b0f0-246441841f26"
      },
      "execution_count": 7,
      "outputs": [
        {
          "output_type": "stream",
          "name": "stdout",
          "text": [
            "Variabel bebas (fitur): ['age', 'sex', 'bmi', 'children', 'smoker', 'region']\n",
            "Variabel target: charges\n"
          ]
        },
        {
          "output_type": "execute_result",
          "data": {
            "text/plain": [
              "LinearRegression()"
            ],
            "text/html": [
              "<style>#sk-container-id-1 {color: black;}#sk-container-id-1 pre{padding: 0;}#sk-container-id-1 div.sk-toggleable {background-color: white;}#sk-container-id-1 label.sk-toggleable__label {cursor: pointer;display: block;width: 100%;margin-bottom: 0;padding: 0.3em;box-sizing: border-box;text-align: center;}#sk-container-id-1 label.sk-toggleable__label-arrow:before {content: \"▸\";float: left;margin-right: 0.25em;color: #696969;}#sk-container-id-1 label.sk-toggleable__label-arrow:hover:before {color: black;}#sk-container-id-1 div.sk-estimator:hover label.sk-toggleable__label-arrow:before {color: black;}#sk-container-id-1 div.sk-toggleable__content {max-height: 0;max-width: 0;overflow: hidden;text-align: left;background-color: #f0f8ff;}#sk-container-id-1 div.sk-toggleable__content pre {margin: 0.2em;color: black;border-radius: 0.25em;background-color: #f0f8ff;}#sk-container-id-1 input.sk-toggleable__control:checked~div.sk-toggleable__content {max-height: 200px;max-width: 100%;overflow: auto;}#sk-container-id-1 input.sk-toggleable__control:checked~label.sk-toggleable__label-arrow:before {content: \"▾\";}#sk-container-id-1 div.sk-estimator input.sk-toggleable__control:checked~label.sk-toggleable__label {background-color: #d4ebff;}#sk-container-id-1 div.sk-label input.sk-toggleable__control:checked~label.sk-toggleable__label {background-color: #d4ebff;}#sk-container-id-1 input.sk-hidden--visually {border: 0;clip: rect(1px 1px 1px 1px);clip: rect(1px, 1px, 1px, 1px);height: 1px;margin: -1px;overflow: hidden;padding: 0;position: absolute;width: 1px;}#sk-container-id-1 div.sk-estimator {font-family: monospace;background-color: #f0f8ff;border: 1px dotted black;border-radius: 0.25em;box-sizing: border-box;margin-bottom: 0.5em;}#sk-container-id-1 div.sk-estimator:hover {background-color: #d4ebff;}#sk-container-id-1 div.sk-parallel-item::after {content: \"\";width: 100%;border-bottom: 1px solid gray;flex-grow: 1;}#sk-container-id-1 div.sk-label:hover label.sk-toggleable__label {background-color: #d4ebff;}#sk-container-id-1 div.sk-serial::before {content: \"\";position: absolute;border-left: 1px solid gray;box-sizing: border-box;top: 0;bottom: 0;left: 50%;z-index: 0;}#sk-container-id-1 div.sk-serial {display: flex;flex-direction: column;align-items: center;background-color: white;padding-right: 0.2em;padding-left: 0.2em;position: relative;}#sk-container-id-1 div.sk-item {position: relative;z-index: 1;}#sk-container-id-1 div.sk-parallel {display: flex;align-items: stretch;justify-content: center;background-color: white;position: relative;}#sk-container-id-1 div.sk-item::before, #sk-container-id-1 div.sk-parallel-item::before {content: \"\";position: absolute;border-left: 1px solid gray;box-sizing: border-box;top: 0;bottom: 0;left: 50%;z-index: -1;}#sk-container-id-1 div.sk-parallel-item {display: flex;flex-direction: column;z-index: 1;position: relative;background-color: white;}#sk-container-id-1 div.sk-parallel-item:first-child::after {align-self: flex-end;width: 50%;}#sk-container-id-1 div.sk-parallel-item:last-child::after {align-self: flex-start;width: 50%;}#sk-container-id-1 div.sk-parallel-item:only-child::after {width: 0;}#sk-container-id-1 div.sk-dashed-wrapped {border: 1px dashed gray;margin: 0 0.4em 0.5em 0.4em;box-sizing: border-box;padding-bottom: 0.4em;background-color: white;}#sk-container-id-1 div.sk-label label {font-family: monospace;font-weight: bold;display: inline-block;line-height: 1.2em;}#sk-container-id-1 div.sk-label-container {text-align: center;}#sk-container-id-1 div.sk-container {/* jupyter's `normalize.less` sets `[hidden] { display: none; }` but bootstrap.min.css set `[hidden] { display: none !important; }` so we also need the `!important` here to be able to override the default hidden behavior on the sphinx rendered scikit-learn.org. See: https://github.com/scikit-learn/scikit-learn/issues/21755 */display: inline-block !important;position: relative;}#sk-container-id-1 div.sk-text-repr-fallback {display: none;}</style><div id=\"sk-container-id-1\" class=\"sk-top-container\"><div class=\"sk-text-repr-fallback\"><pre>LinearRegression()</pre><b>In a Jupyter environment, please rerun this cell to show the HTML representation or trust the notebook. <br />On GitHub, the HTML representation is unable to render, please try loading this page with nbviewer.org.</b></div><div class=\"sk-container\" hidden><div class=\"sk-item\"><div class=\"sk-estimator sk-toggleable\"><input class=\"sk-toggleable__control sk-hidden--visually\" id=\"sk-estimator-id-1\" type=\"checkbox\" checked><label for=\"sk-estimator-id-1\" class=\"sk-toggleable__label sk-toggleable__label-arrow\">LinearRegression</label><div class=\"sk-toggleable__content\"><pre>LinearRegression()</pre></div></div></div></div></div>"
            ]
          },
          "metadata": {},
          "execution_count": 7
        }
      ]
    },
    {
      "cell_type": "code",
      "source": [
        "import pandas as pd\n",
        "from sklearn.model_selection import train_test_split\n",
        "from sklearn.preprocessing import StandardScaler, OneHotEncoder\n",
        "from sklearn.linear_model import LinearRegression\n",
        "from sklearn.compose import ColumnTransformer\n",
        "from sklearn.metrics import mean_squared_error, r2_score\n",
        "\n",
        "# Ganti 'nama_file.csv' dengan nama file dataset Anda\n",
        "data = pd.read_csv('insurance.csv')\n",
        "\n",
        "# Identifikasi variabel bebas (fitur)\n",
        "features = ['age', 'sex', 'bmi', 'children', 'smoker', 'region']\n",
        "\n",
        "# Identifikasi variabel target (biaya medis personal)\n",
        "target = 'charges'\n",
        "\n",
        "# Cetak variabel yang telah diidentifikasi\n",
        "print(\"Variabel bebas (fitur):\", features)\n",
        "print(\"Variabel target:\", target)\n",
        "\n",
        "# Pisahkan fitur (X) dan target (y)\n",
        "X = data[features]\n",
        "y = data[target]\n",
        "\n",
        "# Bagi data menjadi data latih dan data uji (misalnya, 80% latih, 20% uji)\n",
        "X_train, X_test, y_train, y_test = train_test_split(X, y, test_size=0.2, random_state=42)\n",
        "\n",
        "# --- Create a column transformer to apply different transformations ---\n",
        "preprocessor = ColumnTransformer(\n",
        "    transformers=[\n",
        "        ('num', StandardScaler(), ['age', 'bmi', 'children']),\n",
        "        ('cat', OneHotEncoder(), ['sex', 'smoker', 'region'])\n",
        "    ])\n",
        "\n",
        "# --- Fit and transform the training data ---\n",
        "X_train = preprocessor.fit_transform(X_train)\n",
        "\n",
        "# --- Only transform the test data ---\n",
        "X_test = preprocessor.transform(X_test)\n",
        "\n",
        "# Buat model multiple linear regression\n",
        "model = LinearRegression()\n",
        "\n",
        "# Latih model dengan data latih\n",
        "model.fit(X_train, y_train)\n",
        "\n",
        "# --- Lakukan prediksi pada data uji ---\n",
        "y_pred = model.predict(X_test)\n",
        "\n",
        "# --- Evaluasi model ---\n",
        "mse = mean_squared_error(y_test, y_pred)\n",
        "r2 = r2_score(y_test, y_pred)\n",
        "\n",
        "print(f'Mean Squared Error (MSE): {mse}')\n",
        "print(f'R-squared (R2): {r2}')"
      ],
      "metadata": {
        "colab": {
          "base_uri": "https://localhost:8080/"
        },
        "id": "wbR8D2zd4tCJ",
        "outputId": "62d7b765-d2db-4584-f776-991554e84a46"
      },
      "execution_count": 8,
      "outputs": [
        {
          "output_type": "stream",
          "name": "stdout",
          "text": [
            "Variabel bebas (fitur): ['age', 'sex', 'bmi', 'children', 'smoker', 'region']\n",
            "Variabel target: charges\n",
            "Mean Squared Error (MSE): 33596915.851361476\n",
            "R-squared (R2): 0.7835929767120722\n"
          ]
        }
      ]
    },
    {
      "cell_type": "code",
      "source": [
        "import pandas as pd\n",
        "from sklearn.model_selection import train_test_split\n",
        "from sklearn.preprocessing import StandardScaler, OneHotEncoder\n",
        "from sklearn.linear_model import LinearRegression\n",
        "from sklearn.compose import ColumnTransformer\n",
        "from sklearn.metrics import mean_squared_error, r2_score, mean_absolute_error\n",
        "\n",
        "# Ganti 'nama_file.csv' dengan nama file dataset Anda\n",
        "data = pd.read_csv('insurance.csv')\n",
        "\n",
        "# Identifikasi variabel bebas (fitur)\n",
        "features = ['age', 'sex', 'bmi', 'children', 'smoker', 'region']\n",
        "\n",
        "# Identifikasi variabel target (biaya medis personal)\n",
        "target = 'charges'\n",
        "\n",
        "# Cetak variabel yang telah diidentifikasi\n",
        "print(\"Variabel bebas (fitur):\", features)\n",
        "print(\"Variabel target:\", target)\n",
        "\n",
        "# Pisahkan fitur (X) dan target (y)\n",
        "X = data[features]\n",
        "y = data[target]\n",
        "\n",
        "# Bagi data menjadi data latih dan data uji (misalnya, 80% latih, 20% uji)\n",
        "X_train, X_test, y_train, y_test = train_test_split(X, y, test_size=0.2, random_state=42)\n",
        "\n",
        "# --- Create a column transformer to apply different transformations ---\n",
        "preprocessor = ColumnTransformer(\n",
        "    transformers=[\n",
        "        ('num', StandardScaler(), ['age', 'bmi', 'children']),\n",
        "        ('cat', OneHotEncoder(), ['sex', 'smoker', 'region'])\n",
        "    ])\n",
        "\n",
        "# --- Fit and transform the training data ---\n",
        "X_train = preprocessor.fit_transform(X_train)\n",
        "\n",
        "# --- Only transform the test data ---\n",
        "X_test = preprocessor.transform(X_test)\n",
        "\n",
        "# Buat model multiple linear regression\n",
        "model = LinearRegression()\n",
        "\n",
        "# Latih model dengan data latih\n",
        "model.fit(X_train, y_train)\n",
        "\n",
        "# --- Lakukan prediksi pada data uji ---\n",
        "y_pred = model.predict(X_test)\n",
        "\n",
        "# --- Evaluasi model ---\n",
        "mse = mean_squared_error(y_test, y_pred)\n",
        "mae = mean_absolute_error(y_test, y_pred)\n",
        "r2 = r2_score(y_test, y_pred)\n",
        "\n",
        "print(f'Mean Squared Error (MSE): {mse}')\n",
        "print(f'Mean Absolute Error (MAE): {mae}')\n",
        "print(f'R-squared (R2): {r2}')"
      ],
      "metadata": {
        "colab": {
          "base_uri": "https://localhost:8080/"
        },
        "id": "9oXg-Joa4yC_",
        "outputId": "bfe526bd-35d1-42b9-e9d6-0e5aa111c3e7"
      },
      "execution_count": 9,
      "outputs": [
        {
          "output_type": "stream",
          "name": "stdout",
          "text": [
            "Variabel bebas (fitur): ['age', 'sex', 'bmi', 'children', 'smoker', 'region']\n",
            "Variabel target: charges\n",
            "Mean Squared Error (MSE): 33596915.851361476\n",
            "Mean Absolute Error (MAE): 4181.194473753652\n",
            "R-squared (R2): 0.7835929767120722\n"
          ]
        }
      ]
    }
  ]
}